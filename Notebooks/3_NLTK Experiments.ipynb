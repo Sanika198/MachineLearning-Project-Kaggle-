{
 "cells": [
  {
   "cell_type": "markdown",
   "metadata": {},
   "source": [
    "# CPSC 483 - Data Mining and Pattern Recognition\n",
    "## Fall 2017 - Group Project"
   ]
  },
  {
   "cell_type": "markdown",
   "metadata": {},
   "source": [
    "## Competition - Spooky Author Identification\n",
    "**Identify horror authors from their writings**\n",
    "\n",
    "**File descriptions**\n",
    "\n",
    "    train.csv - the training set\n",
    "    test.csv - the test set\n",
    "    sample_submission.csv - a sample submission file in the correct format\n",
    "\n",
    "**Data fields**\n",
    "\n",
    "    id - a unique identifier for each sentence\n",
    "    text - some text written by one of the authors\n",
    "    author - the author of the sentence (EAP: Edgar Allan Poe, HPL: HP Lovecraft; MWS: Mary Wollstonecraft Shelley)"
   ]
  },
  {
   "cell_type": "markdown",
   "metadata": {},
   "source": [
    "# NLTK Experiments"
   ]
  },
  {
   "cell_type": "markdown",
   "metadata": {},
   "source": [
    "## This notebook looks at experiments to include the results of the Grammer: Parts of Speech analysis from the Exploratory Data Analysis notebook"
   ]
  },
  {
   "cell_type": "code",
   "execution_count": 398,
   "metadata": {},
   "outputs": [],
   "source": [
    "import numpy as np\n",
    "import pandas as pd\n",
    "import os\n",
    "import itertools\n",
    "import nltk\n",
    "from nltk import word_tokenize\n",
    "from nltk.stem import WordNetLemmatizer\n",
    "from nltk.corpus import wordnet\n",
    "from nltk import pos_tag\n",
    "from nltk.stem.snowball import EnglishStemmer\n",
    "from sklearn.feature_extraction.text import CountVectorizer, HashingVectorizer\n",
    "from sklearn.feature_extraction.text import  TfidfTransformer\n",
    "from sklearn.feature_extraction.text import TfidfVectorizer\n",
    "from sklearn.pipeline import Pipeline\n",
    "from sklearn.metrics import accuracy_score\n",
    "from sklearn.metrics import log_loss\n",
    "from sklearn.metrics import classification_report, confusion_matrix\n",
    "# Set graph parameters\n",
    "%matplotlib inline\n",
    "import matplotlib\n",
    "import matplotlib.pyplot as plt\n",
    "plt.rcParams['axes.labelsize'] = 14\n",
    "plt.rcParams['xtick.labelsize'] = 12\n",
    "plt.rcParams['ytick.labelsize'] = 12"
   ]
  },
  {
   "cell_type": "code",
   "execution_count": 399,
   "metadata": {},
   "outputs": [],
   "source": [
    "# Plot confusion matrix\n",
    "# http://scikit-learn.org/stable/auto_examples/model_selection/plot_confusion_matrix.html#sphx-glr-auto-examples-model-selection-plot-confusion-matrix-py\n",
    "def plot_conf_matrix(cm, classes, title='Confusion Matrix', cmap=plt.cm.Blues):\n",
    "    plt.imshow(cm, interpolation='nearest', cmap=cmap)\n",
    "    plt.title(title)\n",
    "    plt.colorbar()\n",
    "    tick_marks = np.arange(len(classes))\n",
    "    plt.xticks(tick_marks, classes, rotation=45)\n",
    "    plt.yticks(tick_marks, classes)\n",
    "    fmt = 'd'\n",
    "    thresh = cm.max()/2\n",
    "    for i, j in itertools.product(range(cm.shape[0]), range(cm.shape[1])):\n",
    "        plt.text(j, i, format(cm[i, j], fmt),\n",
    "                 horizontalalignment=\"center\",\n",
    "                 color=\"white\" if cm[i, j] > thresh else \"black\")\n",
    "    plt.tight_layout()\n",
    "    plt.ylabel('True Label')\n",
    "    plt.xlabel('Predicted Label')"
   ]
  },
  {
   "cell_type": "code",
   "execution_count": 400,
   "metadata": {},
   "outputs": [],
   "source": [
    "# Set the path of the spooky author dataset\n",
    "SPOOKY_PATH = 'spooky'\n",
    "\n",
    "\n",
    "def load_spooky_dataset(dataset_type):\n",
    "    filepath = os.path.join(SPOOKY_PATH, dataset_type, dataset_type + \".csv\")\n",
    "    print(filepath)\n",
    "    return pd.read_csv(filepath)"
   ]
  },
  {
   "cell_type": "code",
   "execution_count": 401,
   "metadata": {},
   "outputs": [
    {
     "name": "stdout",
     "output_type": "stream",
     "text": [
      "spooky\\train\\train.csv\n",
      "spooky\\test\\test.csv\n"
     ]
    }
   ],
   "source": [
    "train = load_spooky_dataset(\"train\")\n",
    "test = load_spooky_dataset(\"test\")"
   ]
  },
  {
   "cell_type": "code",
   "execution_count": 402,
   "metadata": {},
   "outputs": [],
   "source": [
    "from sklearn.model_selection import train_test_split\n",
    "\n",
    "X_train, X_test, y_train, y_test = train_test_split(train['text'], train['author'])\n",
    "#X_train, y_train = train['text'], train['author']\n",
    "#X_test = test['text']\n",
    "#X_ID = test['id']"
   ]
  },
  {
   "cell_type": "code",
   "execution_count": 203,
   "metadata": {},
   "outputs": [],
   "source": [
    "text = 'How is your studies? You should be studying.'\n",
    "#text = train.text[1]"
   ]
  },
  {
   "cell_type": "code",
   "execution_count": 204,
   "metadata": {},
   "outputs": [],
   "source": [
    "tokenized_text = nltk.word_tokenize(text)\n",
    "tagged_text = [nltk.pos_tag(word) for word in tokenized_text]"
   ]
  },
  {
   "cell_type": "code",
   "execution_count": 205,
   "metadata": {},
   "outputs": [],
   "source": [
    "wnl = WordNetLemmatizer()\n",
    "# Reference : http://coling.epfl.ch/TP/TP-tagging.html\n",
    "def get_wordnet_pos(universal_tag):\n",
    "    if universal_tag == 'VERB':\n",
    "        return wordnet.VERB\n",
    "    elif universal_tag == 'ADJ':\n",
    "        return wordnet.ADJ\n",
    "    elif universal_tag == 'ADV':\n",
    "        return wordnet.ADV\n",
    "    else:\n",
    "        return wordnet.NOUN\n",
    "\n",
    "def lemmaToken(text):\n",
    "    tokenized_text = nltk.word_tokenize(text)\n",
    "    tagged_text = nltk.pos_tag(tokenized_text)\n",
    "    print(tagged_text)\n",
    "    lemma_text = []\n",
    "    for item in tagged_text:\n",
    "        #print(item[0], item[1])\n",
    "        lemma_text.append(wnl.lemmatize(item[0], pos=get_wordnet_pos(item[1])))\n",
    "    return lemma_text\n",
    "\n"
   ]
  },
  {
   "cell_type": "code",
   "execution_count": 206,
   "metadata": {},
   "outputs": [
    {
     "name": "stdout",
     "output_type": "stream",
     "text": [
      "['How', 'is', 'your', 'studies', '?', 'You', 'should', 'be', 'studying', '.']\n",
      "Stem: ['how', 'is', 'your', 'studi', '?', 'you', 'should', 'be', 'studi', '.']\n",
      "Lemmatize: ['How', 'is', 'your', 'study', '?', 'You', 'should', 'be', 'studying', '.']\n",
      "[('How', 'WRB'), ('is', 'VBZ'), ('your', 'PRP$'), ('studies', 'NNS'), ('?', '.'), ('You', 'PRP'), ('should', 'MD'), ('be', 'VB'), ('studying', 'VBG'), ('.', '.')]\n"
     ]
    },
    {
     "data": {
      "text/plain": [
       "['How', 'is', 'your', 'study', '?', 'You', 'should', 'be', 'studying', '.']"
      ]
     },
     "execution_count": 206,
     "metadata": {},
     "output_type": "execute_result"
    }
   ],
   "source": [
    "print(tokenized_text)\n",
    "print('Stem:',[EnglishStemmer().stem(word) for word in tokenized_text])\n",
    "print('Lemmatize:',[WordNetLemmatizer().lemmatize(word) for word in tokenized_text])\n",
    "lemmaToken(text)"
   ]
  },
  {
   "cell_type": "code",
   "execution_count": 602,
   "metadata": {},
   "outputs": [
    {
     "name": "stdout",
     "output_type": "stream",
     "text": [
      "['The 1 quick brown fox jumps over the 2 lazy dog']\n"
     ]
    }
   ],
   "source": [
    "#nltk.download()\n",
    "sen = nltk.sent_tokenize(text)\n",
    "print(sen)"
   ]
  },
  {
   "cell_type": "code",
   "execution_count": 606,
   "metadata": {},
   "outputs": [
    {
     "name": "stdout",
     "output_type": "stream",
     "text": [
      "[['The', '1', 'quick', 'brown', 'fox', 'jumps', 'over', 'the', '2', 'lazy', 'dog']]\n"
     ]
    }
   ],
   "source": [
    "sentences = [nltk.word_tokenize(sent) for sent in sen]\n",
    "print(sentences)"
   ]
  },
  {
   "cell_type": "code",
   "execution_count": 604,
   "metadata": {},
   "outputs": [
    {
     "name": "stdout",
     "output_type": "stream",
     "text": [
      "[[('The', 'DT'), ('1', 'CD'), ('quick', 'JJ'), ('brown', 'NN'), ('fox', 'NN'), ('jumps', 'VBZ'), ('over', 'IN'), ('the', 'DT'), ('2', 'CD'), ('lazy', 'NN'), ('dog', 'NN')]]\n"
     ]
    }
   ],
   "source": [
    "sentences = [nltk.pos_tag(sent) for sent in sentences]\n",
    "print(sentences)"
   ]
  },
  {
   "cell_type": "code",
   "execution_count": 314,
   "metadata": {},
   "outputs": [],
   "source": [
    "class LemmaTokenizer(object):\n",
    "    def __init__(self):\n",
    "        self.wnl = WordNetLemmatizer()\n",
    "    def __call__(self, doc):\n",
    "        return [self.wnl.lemmatize(t) for t in word_tokenize(doc)]\n",
    "        \n",
    "class LemmaTokenizer_c(object):\n",
    "    def __init__(self):\n",
    "        self.wnl = WordNetLemmatizer()\n",
    "    def __call__(self, doc):\n",
    "        # TODO check this\n",
    "        #tokenized_text = [nltk.word_tokenize(w) for w in text]\n",
    "        #tagged_text = [nltk.pos_tag(word_tokenize(text))]\n",
    "        #print(tagged_text)\n",
    "        #lemma_text = []\n",
    "        #for item in tagged_text:\n",
    "            #print(item)\n",
    "            #for w in item:\n",
    "                #print(w[0], w[1])\n",
    "            #lemma_text.append(wnl.lemmatize(w[0], pos=get_wordnet_pos(w[1])) for w in item)\n",
    "        #return lemma_text\n",
    "        return [self.wnl.lemmatize(w[0], pos=get_wordnet_pos(w[1])) for w in pos_tag(word_tokenize(doc))]\n",
    "    "
   ]
  },
  {
   "cell_type": "code",
   "execution_count": 315,
   "metadata": {},
   "outputs": [],
   "source": [
    "vec1 = CountVectorizer(tokenizer=LemmaTokenizer())\n",
    "vec2 = CountVectorizer(tokenizer=LemmaTokenizer_c())"
   ]
  },
  {
   "cell_type": "code",
   "execution_count": 316,
   "metadata": {},
   "outputs": [],
   "source": [
    "text = ['How is your studies? You should be studying.']"
   ]
  },
  {
   "cell_type": "code",
   "execution_count": 317,
   "metadata": {},
   "outputs": [
    {
     "data": {
      "text/plain": [
       "<1x10 sparse matrix of type '<class 'numpy.int64'>'\n",
       "\twith 10 stored elements in Compressed Sparse Row format>"
      ]
     },
     "execution_count": 317,
     "metadata": {},
     "output_type": "execute_result"
    }
   ],
   "source": [
    "vec1.fit_transform(text)"
   ]
  },
  {
   "cell_type": "code",
   "execution_count": 318,
   "metadata": {},
   "outputs": [
    {
     "data": {
      "text/plain": [
       "<1x10 sparse matrix of type '<class 'numpy.int64'>'\n",
       "\twith 10 stored elements in Compressed Sparse Row format>"
      ]
     },
     "execution_count": 318,
     "metadata": {},
     "output_type": "execute_result"
    }
   ],
   "source": [
    "vec2.fit_transform(text)"
   ]
  },
  {
   "cell_type": "code",
   "execution_count": 319,
   "metadata": {},
   "outputs": [
    {
     "data": {
      "text/plain": [
       "{'.': 0,\n",
       " '?': 1,\n",
       " 'be': 2,\n",
       " 'how': 3,\n",
       " 'is': 4,\n",
       " 'should': 5,\n",
       " 'study': 6,\n",
       " 'studying': 7,\n",
       " 'you': 8,\n",
       " 'your': 9}"
      ]
     },
     "execution_count": 319,
     "metadata": {},
     "output_type": "execute_result"
    }
   ],
   "source": [
    "vec1.vocabulary_"
   ]
  },
  {
   "cell_type": "code",
   "execution_count": 320,
   "metadata": {},
   "outputs": [
    {
     "data": {
      "text/plain": [
       "{'.': 0,\n",
       " '?': 1,\n",
       " 'be': 2,\n",
       " 'how': 3,\n",
       " 'is': 4,\n",
       " 'should': 5,\n",
       " 'study': 6,\n",
       " 'studying': 7,\n",
       " 'you': 8,\n",
       " 'your': 9}"
      ]
     },
     "execution_count": 320,
     "metadata": {},
     "output_type": "execute_result"
    }
   ],
   "source": [
    "vec2.vocabulary_"
   ]
  },
  {
   "cell_type": "code",
   "execution_count": 44,
   "metadata": {},
   "outputs": [
    {
     "name": "stdout",
     "output_type": "stream",
     "text": [
      "['Mr. Charles Green']\n"
     ]
    }
   ],
   "source": [
    "sample = 'For its introduction into common use for purposes of aerostation, we are indebted to Mr. Charles Green.'\n",
    "\n",
    "def extract_entity_names(t):\n",
    "    entity_names = []\n",
    "\n",
    "    if hasattr(t, 'label') and t.label:\n",
    "        if t.label() == 'NE':\n",
    "            entity_names.append(' '.join([child[0] for child in t]))\n",
    "        else:\n",
    "            for child in t:\n",
    "                entity_names.extend(extract_entity_names(child))\n",
    "\n",
    "    return entity_names\n",
    "\n",
    "sentences = nltk.sent_tokenize(sample)\n",
    "tokenized_sentences = [nltk.word_tokenize(sentence) for sentence in sentences]\n",
    "tagged_sentences = [nltk.pos_tag(sentence) for sentence in tokenized_sentences]\n",
    "chunked_sentences = nltk.ne_chunk_sents(tagged_sentences, binary=True)\n",
    "\n",
    "entities = []\n",
    "for tree in chunked_sentences:\n",
    "    entities.extend(extract_entity_names(tree))\n",
    "\n",
    "print(entities)"
   ]
  },
  {
   "cell_type": "code",
   "execution_count": 24,
   "metadata": {},
   "outputs": [],
   "source": [
    "import re\n",
    "from sklearn.feature_extraction.text import CountVectorizer"
   ]
  },
  {
   "cell_type": "code",
   "execution_count": 391,
   "metadata": {},
   "outputs": [],
   "source": [
    "test = ['Ok, tell me, was it really, worth the effort, please']"
   ]
  },
  {
   "cell_type": "code",
   "execution_count": 392,
   "metadata": {},
   "outputs": [
    {
     "data": {
      "text/plain": [
       "<1x27 sparse matrix of type '<class 'numpy.int64'>'\n",
       "\twith 27 stored elements in Compressed Sparse Row format>"
      ]
     },
     "execution_count": 392,
     "metadata": {},
     "output_type": "execute_result"
    }
   ],
   "source": [
    "#ngram_range=(1, 2),\n",
    "cvec = CountVectorizer(token_pattern='[,]*\\w+[,]*', ngram_range=(1,3))\n",
    "cvec.fit_transform(test)"
   ]
  },
  {
   "cell_type": "code",
   "execution_count": 393,
   "metadata": {},
   "outputs": [
    {
     "data": {
      "text/plain": [
       "{'effort,': 0,\n",
       " 'effort, please': 1,\n",
       " 'it': 2,\n",
       " 'it really,': 3,\n",
       " 'it really, worth': 4,\n",
       " 'me,': 5,\n",
       " 'me, was': 6,\n",
       " 'me, was it': 7,\n",
       " 'ok,': 8,\n",
       " 'ok, tell': 9,\n",
       " 'ok, tell me,': 10,\n",
       " 'please': 11,\n",
       " 'really,': 12,\n",
       " 'really, worth': 13,\n",
       " 'really, worth the': 14,\n",
       " 'tell': 15,\n",
       " 'tell me,': 16,\n",
       " 'tell me, was': 17,\n",
       " 'the': 18,\n",
       " 'the effort,': 19,\n",
       " 'the effort, please': 20,\n",
       " 'was': 21,\n",
       " 'was it': 22,\n",
       " 'was it really,': 23,\n",
       " 'worth': 24,\n",
       " 'worth the': 25,\n",
       " 'worth the effort,': 26}"
      ]
     },
     "execution_count": 393,
     "metadata": {},
     "output_type": "execute_result"
    }
   ],
   "source": [
    "cvec.vocabulary_"
   ]
  },
  {
   "cell_type": "code",
   "execution_count": 352,
   "metadata": {},
   "outputs": [
    {
     "data": {
      "text/plain": [
       "CountVectorizer(analyzer='word', binary=False, decode_error='strict',\n",
       "        dtype=<class 'numpy.int64'>, encoding='utf-8', input='content',\n",
       "        lowercase=True, max_df=1.0, max_features=None, min_df=1,\n",
       "        ngram_range=(1, 3), preprocessor=None, stop_words=None,\n",
       "        strip_accents=None, token_pattern='[,]*\\\\w+', tokenizer=None,\n",
       "        vocabulary=None)"
      ]
     },
     "execution_count": 352,
     "metadata": {},
     "output_type": "execute_result"
    }
   ],
   "source": [
    "cvec"
   ]
  },
  {
   "cell_type": "code",
   "execution_count": 8,
   "metadata": {},
   "outputs": [],
   "source": [
    "from sklearn.naive_bayes import MultinomialNB\n",
    "from sklearn.linear_model import SGDClassifier\n",
    "\n",
    "#[,. ]*\n",
    "#[,]*\\w{1,}[,]*\n",
    "\n",
    "# max_features=None, max_df=0.5, ngram_range=(1,2) norm='l2', use_idf=False alpha=0.01 0.852093973442 0.3763402815\n",
    "\n",
    "# token_pattern='[,]*\\w+', binary=True, ngram_range=(1,3) use_idf=False alpha=0.01 0.850663942799 0.385644965161\n",
    "# token_pattern='[,]*\\w+', binary=True, ngram_range=(1,2) use_idf=False alpha=0.01 0.857201225741 0.367171610854\n",
    "\n",
    "#token_pattern='[,]*\\w+', binary=True, max_df=0.5, ngram_range=(1,2) norm='l2', use_idf=False alpha=0.01\n",
    "# 0.857405515832 0.367096405468\n",
    "\n",
    "mnb_clf = Pipeline([\n",
    "    ('vect', CountVectorizer(max_features=None, max_df=0.5, ngram_range=(1,2))),\n",
    "    ('tfidf', TfidfTransformer(norm='l2', use_idf=False)),\n",
    "    ('clf', MultinomialNB(alpha=0.01)),\n",
    "])"
   ]
  },
  {
   "cell_type": "code",
   "execution_count": 552,
   "metadata": {},
   "outputs": [
    {
     "data": {
      "text/plain": [
       "Pipeline(memory=None,\n",
       "     steps=[('vect', CountVectorizer(analyzer='word', binary=False, decode_error='strict',\n",
       "        dtype=<class 'numpy.int64'>, encoding='utf-8', input='content',\n",
       "        lowercase=True, max_df=0.5, max_features=None, min_df=1,\n",
       "        ngram_range=(1, 2), preprocessor=None, stop_words=None,\n",
       "        strip...lse,\n",
       "         use_idf=False)), ('clf', MultinomialNB(alpha=0.01, class_prior=None, fit_prior=True))])"
      ]
     },
     "execution_count": 552,
     "metadata": {},
     "output_type": "execute_result"
    }
   ],
   "source": [
    "mnb_clf.fit(X_train, y_train)"
   ]
  },
  {
   "cell_type": "code",
   "execution_count": 553,
   "metadata": {},
   "outputs": [
    {
     "name": "stdout",
     "output_type": "stream",
     "text": [
      "Accuracy score: 0.852093973442\n",
      "Log Loss: 0.3763402815\n"
     ]
    }
   ],
   "source": [
    "y_pred = mnb_clf.predict(X_test)\n",
    "y_pred_prob = mnb_clf.predict_proba(X_test)\n",
    "print(\"Accuracy score:\", accuracy_score(y_test, y_pred))\n",
    "print(\"Log Loss:\", log_loss(y_test, y_pred_prob))"
   ]
  },
  {
   "cell_type": "code",
   "execution_count": 554,
   "metadata": {},
   "outputs": [
    {
     "data": {
      "image/png": "[encoded data removed]",
      "text/plain": [
       "<matplotlib.figure.Figure at 0x1778037fa58>"
      ]
     },
     "metadata": {},
     "output_type": "display_data"
    }
   ],
   "source": [
    "conf_mx = confusion_matrix(y_test, y_pred)\n",
    "plot_conf_matrix(conf_mx, train.author.unique(), title=\"MNB_GS Confusion Matrix\")"
   ]
  },
  {
   "cell_type": "code",
   "execution_count": 218,
   "metadata": {},
   "outputs": [],
   "source": [
    "# http://scikit-learn.org/stable/modules/feature_extraction.html\n",
    "\n",
    "class LemmaTokenizer(object):\n",
    "    def __init__(self):\n",
    "        self.wnl = WordNetLemmatizer()\n",
    "    def __call__(self, doc):\n",
    "        return [self.wnl.lemmatize(t) for t in word_tokenize(doc)]\n",
    "        \n",
    "class LemmaTokenizer_c(object):\n",
    "    def __init__(self):\n",
    "        self.wnl = WordNetLemmatizer()\n",
    "    def __call__(self, doc):\n",
    "        # TODO check this\n",
    "        tokenized_text = nltk.word_tokenize(text)\n",
    "        tagged_text = nltk.pos_tag(tokenized_text)\n",
    "        lemma_text = []\n",
    "        for item in tagged_text:\n",
    "            print(item[0], item[1])\n",
    "            lemma_text.append(wnl.lemmatize(item[0], pos=get_wordnet_pos(item[1])))\n",
    "        return lemma_text\n"
   ]
  },
  {
   "cell_type": "code",
   "execution_count": 333,
   "metadata": {},
   "outputs": [],
   "source": [
    "mnb_clf = Pipeline([\n",
    "    ('vect', CountVectorizer(tokenizer=LemmaTokenizer_c(), binary=True, ngram_range=(1, 2), token_pattern='[,]*\\w+', max_df=0.5)),\n",
    "    ('tfidf', TfidfTransformer(norm='l2', use_idf=False)),\n",
    "    ('clf', MultinomialNB(alpha=0.01)),\n",
    "])"
   ]
  },
  {
   "cell_type": "code",
   "execution_count": 334,
   "metadata": {},
   "outputs": [
    {
     "data": {
      "text/plain": [
       "Pipeline(memory=None,\n",
       "     steps=[('vect', CountVectorizer(analyzer='word', binary=True, decode_error='strict',\n",
       "        dtype=<class 'numpy.int64'>, encoding='utf-8', input='content',\n",
       "        lowercase=True, max_df=0.5, max_features=None, min_df=1,\n",
       "        ngram_range=(1, 2), preprocessor=None, stop_words=None,\n",
       "        strip_...lse,\n",
       "         use_idf=False)), ('clf', MultinomialNB(alpha=0.01, class_prior=None, fit_prior=True))])"
      ]
     },
     "execution_count": 334,
     "metadata": {},
     "output_type": "execute_result"
    }
   ],
   "source": [
    "mnb_clf.fit(X_train, y_train)"
   ]
  },
  {
   "cell_type": "code",
   "execution_count": 335,
   "metadata": {},
   "outputs": [
    {
     "name": "stdout",
     "output_type": "stream",
     "text": [
      "Accuracy score: 0.863125638407\n",
      "Log Loss: 0.34708790383\n"
     ]
    }
   ],
   "source": [
    "y_pred = mnb_clf.predict(X_test)\n",
    "y_pred_prob = mnb_clf.predict_proba(X_test)\n",
    "print(\"Accuracy score:\", accuracy_score(y_test, y_pred))\n",
    "print(\"Log Loss:\", log_loss(y_test, y_pred_prob))"
   ]
  },
  {
   "cell_type": "code",
   "execution_count": 581,
   "metadata": {},
   "outputs": [],
   "source": [
    "# max_features=None, max_df=0.5, ngram_range=(1,2) norm='l2', use_idf=False alpha=0.01 0.852093973442 0.3763402815\n",
    "\n",
    "# token_pattern='[,]*\\w+', binary=True, ngram_range=(1,3) use_idf=False alpha=0.01 0.850663942799 0.385644965161\n",
    "# token_pattern='[,]*\\w+', binary=True, ngram_range=(1,2) use_idf=False alpha=0.01 0.857201225741 0.367171610854\n",
    "\n",
    "#token_pattern='[,]*\\w+', binary=True, max_df=0.5, ngram_range=(1,2) norm='l2', use_idf=False alpha=0.01\n",
    "# 0.857405515832 0.367096405468\n",
    "\n",
    "#tokenizer=LemmaTokenizer(), binary=True, ngram_range=(1,2), token_pattern='[,]*\\w+' norm='l2', use_idf=False alpha=0.01\n",
    "# 0.853115423902 0.357860375266\n",
    "\n",
    "#tokenizer=LemmaTokenizer(), binary=True, ngram_range=(1,2), token_pattern='[,]*\\w+', max_df=0.5 norm='l2', use_idf=False alpha=0.01\n",
    "# 0.866394279877 0.341726684642\n",
    "\n",
    "#tokenizer=LemmaTokenizer_c(), binary=True, ngram_range=(1, 2), token_pattern='[,]*\\w+', max_df=0.5 norm='l2', use_idf=False alpha=0.01"
   ]
  },
  {
   "cell_type": "code",
   "execution_count": 628,
   "metadata": {},
   "outputs": [],
   "source": [
    "def create_submission_file(y_pred_prob, name):\n",
    "    result = pd.DataFrame(y_pred_prob, columns=['EAP', 'HPL', 'MWS'])\n",
    "    result.insert(0, 'id', X_ID)\n",
    "    result.to_csv(name+'.csv', index=False, float_format='%.20f')"
   ]
  },
  {
   "cell_type": "code",
   "execution_count": 407,
   "metadata": {},
   "outputs": [],
   "source": [
    "mnb_clf = Pipeline([\n",
    "    ('vect', CountVectorizer(binary=True, ngram_range=(1,2), token_pattern='[,]*\\w+', max_df=0.5)),\n",
    "    ('tfidf', TfidfTransformer(norm='l2', use_idf=False)),\n",
    "    ('clf', MultinomialNB(alpha=0.01)),\n",
    "])"
   ]
  },
  {
   "cell_type": "code",
   "execution_count": 408,
   "metadata": {},
   "outputs": [
    {
     "data": {
      "text/plain": [
       "Pipeline(memory=None,\n",
       "     steps=[('vect', CountVectorizer(analyzer='word', binary=True, decode_error='strict',\n",
       "        dtype=<class 'numpy.int64'>, encoding='utf-8', input='content',\n",
       "        lowercase=True, max_df=0.5, max_features=None, min_df=1,\n",
       "        ngram_range=(1, 2), preprocessor=None, stop_words=None,\n",
       "        strip_...lse,\n",
       "         use_idf=False)), ('clf', MultinomialNB(alpha=0.01, class_prior=None, fit_prior=True))])"
      ]
     },
     "execution_count": 408,
     "metadata": {},
     "output_type": "execute_result"
    }
   ],
   "source": [
    "mnb_clf.fit(X_train, y_train)"
   ]
  },
  {
   "cell_type": "code",
   "execution_count": 409,
   "metadata": {},
   "outputs": [],
   "source": [
    "y_pred = mnb_clf.predict(X_test)\n",
    "y_pred_prob = mnb_clf.predict_proba(X_test)"
   ]
  },
  {
   "cell_type": "code",
   "execution_count": 410,
   "metadata": {},
   "outputs": [
    {
     "name": "stdout",
     "output_type": "stream",
     "text": [
      "Accuracy score: 0.855158324821\n",
      "Log Loss: 0.361059190387\n"
     ]
    }
   ],
   "source": [
    "print(\"Accuracy score:\", accuracy_score(y_test, y_pred))\n",
    "print(\"Log Loss:\", log_loss(y_test, y_pred_prob))"
   ]
  },
  {
   "cell_type": "code",
   "execution_count": 643,
   "metadata": {},
   "outputs": [],
   "source": [
    "#create_submission_file(y_pred_prob, 'MNB_Lemma_max')"
   ]
  },
  {
   "cell_type": "code",
   "execution_count": 40,
   "metadata": {},
   "outputs": [],
   "source": [
    "class StemTokenizer(object):\n",
    "    def __init__(self):\n",
    "        self.stemmer = EnglishStemmer()\n",
    "    def __call__(self, doc):\n",
    "        return [self.stemmer.stem(t) for t in word_tokenize(doc)]"
   ]
  },
  {
   "cell_type": "code",
   "execution_count": 74,
   "metadata": {},
   "outputs": [],
   "source": [
    "mnb_clf = Pipeline([\n",
    "    ('vect', CountVectorizer(tokenizer=LemmaTokenizer()), binary=True, ngram_range=(1,2), token_pattern='[,]*\\w+', max_df=0.5)),\n",
    "    ('tfidf', TfidfTransformer(norm='l2', use_idf=False)),\n",
    "    ('clf', MultinomialNB(alpha=0.01)),\n",
    "])"
   ]
  },
  {
   "cell_type": "code",
   "execution_count": 75,
   "metadata": {},
   "outputs": [
    {
     "data": {
      "text/plain": [
       "Pipeline(memory=None,\n",
       "     steps=[('vect', CountVectorizer(analyzer='word', binary=True, decode_error='strict',\n",
       "        dtype=<class 'numpy.int64'>, encoding='utf-8', input='content',\n",
       "        lowercase=True, max_df=0.5, max_features=None, min_df=1,\n",
       "        ngram_range=(1, 2), preprocessor=None, stop_words=None,\n",
       "        strip_...lse,\n",
       "         use_idf=False)), ('clf', MultinomialNB(alpha=0.01, class_prior=None, fit_prior=True))])"
      ]
     },
     "execution_count": 75,
     "metadata": {},
     "output_type": "execute_result"
    }
   ],
   "source": [
    "mnb_clf.fit(X_train, y_train)"
   ]
  },
  {
   "cell_type": "code",
   "execution_count": 76,
   "metadata": {},
   "outputs": [
    {
     "name": "stdout",
     "output_type": "stream",
     "text": [
      "Accuracy score: 0.863942798774\n",
      "Log Loss: 0.348606592351\n"
     ]
    }
   ],
   "source": [
    "y_pred = mnb_clf.predict(X_test)\n",
    "y_pred_prob = mnb_clf.predict_proba(X_test)\n",
    "print(\"Accuracy score:\", accuracy_score(y_test, y_pred))\n",
    "print(\"Log Loss:\", log_loss(y_test, y_pred_prob))"
   ]
  },
  {
   "cell_type": "code",
   "execution_count": null,
   "metadata": {},
   "outputs": [],
   "source": []
  },
  {
   "cell_type": "code",
   "execution_count": null,
   "metadata": {},
   "outputs": [],
   "source": []
  }
 ],
 "metadata": {
  "kernelspec": {
   "display_name": "Python 3",
   "language": "python",
   "name": "python3"
  },
  "language_info": {
   "codemirror_mode": {
    "name": "ipython",
    "version": 3
   },
   "file_extension": ".py",
   "mimetype": "text/x-python",
   "name": "python",
   "nbconvert_exporter": "python",
   "pygments_lexer": "ipython3",
   "version": "3.6.1"
  }
 },
 "nbformat": 4,
 "nbformat_minor": 2
}
